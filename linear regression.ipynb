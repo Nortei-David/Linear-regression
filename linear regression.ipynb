{
 "cells": [
  {
   "cell_type": "code",
   "execution_count": 1,
   "metadata": {},
   "outputs": [],
   "source": [
    "%matplotlib inline\n",
    "import matplotlib.pyplot as plt\n",
    "import numpy as np\n",
    "import pandas as pd"
   ]
  },
  {
   "cell_type": "code",
   "execution_count": 2,
   "metadata": {},
   "outputs": [],
   "source": [
    "df = pd.read_csv('Desktop/create.csv')"
   ]
  },
  {
   "cell_type": "code",
   "execution_count": 3,
   "metadata": {},
   "outputs": [
    {
     "data": {
      "text/html": [
       "<div>\n",
       "<style scoped>\n",
       "    .dataframe tbody tr th:only-of-type {\n",
       "        vertical-align: middle;\n",
       "    }\n",
       "\n",
       "    .dataframe tbody tr th {\n",
       "        vertical-align: top;\n",
       "    }\n",
       "\n",
       "    .dataframe thead th {\n",
       "        text-align: right;\n",
       "    }\n",
       "</style>\n",
       "<table border=\"1\" class=\"dataframe\">\n",
       "  <thead>\n",
       "    <tr style=\"text-align: right;\">\n",
       "      <th></th>\n",
       "      <th>Gender</th>\n",
       "      <th>Height</th>\n",
       "      <th>Weight</th>\n",
       "    </tr>\n",
       "  </thead>\n",
       "  <tbody>\n",
       "    <tr>\n",
       "      <th>0</th>\n",
       "      <td>Male</td>\n",
       "      <td>73.847017</td>\n",
       "      <td>241.893563</td>\n",
       "    </tr>\n",
       "    <tr>\n",
       "      <th>1</th>\n",
       "      <td>Male</td>\n",
       "      <td>68.781904</td>\n",
       "      <td>162.310473</td>\n",
       "    </tr>\n",
       "    <tr>\n",
       "      <th>2</th>\n",
       "      <td>Male</td>\n",
       "      <td>74.110105</td>\n",
       "      <td>212.740856</td>\n",
       "    </tr>\n",
       "    <tr>\n",
       "      <th>3</th>\n",
       "      <td>Male</td>\n",
       "      <td>71.730978</td>\n",
       "      <td>220.042470</td>\n",
       "    </tr>\n",
       "    <tr>\n",
       "      <th>4</th>\n",
       "      <td>Male</td>\n",
       "      <td>69.881796</td>\n",
       "      <td>206.349801</td>\n",
       "    </tr>\n",
       "    <tr>\n",
       "      <th>...</th>\n",
       "      <td>...</td>\n",
       "      <td>...</td>\n",
       "      <td>...</td>\n",
       "    </tr>\n",
       "    <tr>\n",
       "      <th>124</th>\n",
       "      <td>Male</td>\n",
       "      <td>68.325464</td>\n",
       "      <td>201.258496</td>\n",
       "    </tr>\n",
       "    <tr>\n",
       "      <th>125</th>\n",
       "      <td>Male</td>\n",
       "      <td>61.254628</td>\n",
       "      <td>201.985213</td>\n",
       "    </tr>\n",
       "    <tr>\n",
       "      <th>126</th>\n",
       "      <td>Female</td>\n",
       "      <td>64.365821</td>\n",
       "      <td>200.654213</td>\n",
       "    </tr>\n",
       "    <tr>\n",
       "      <th>127</th>\n",
       "      <td>Female</td>\n",
       "      <td>66.854147</td>\n",
       "      <td>232.154287</td>\n",
       "    </tr>\n",
       "    <tr>\n",
       "      <th>128</th>\n",
       "      <td>Male</td>\n",
       "      <td>62.521472</td>\n",
       "      <td>210.452547</td>\n",
       "    </tr>\n",
       "  </tbody>\n",
       "</table>\n",
       "<p>129 rows × 3 columns</p>\n",
       "</div>"
      ],
      "text/plain": [
       "     Gender     Height      Weight\n",
       "0      Male  73.847017  241.893563\n",
       "1      Male  68.781904  162.310473\n",
       "2      Male  74.110105  212.740856\n",
       "3      Male  71.730978  220.042470\n",
       "4      Male  69.881796  206.349801\n",
       "..      ...        ...         ...\n",
       "124    Male  68.325464  201.258496\n",
       "125    Male  61.254628  201.985213\n",
       "126  Female  64.365821  200.654213\n",
       "127  Female  66.854147  232.154287\n",
       "128    Male  62.521472  210.452547\n",
       "\n",
       "[129 rows x 3 columns]"
      ]
     },
     "execution_count": 3,
     "metadata": {},
     "output_type": "execute_result"
    }
   ],
   "source": [
    "df"
   ]
  },
  {
   "cell_type": "code",
   "execution_count": 4,
   "metadata": {},
   "outputs": [
    {
     "data": {
      "text/plain": [
       "<matplotlib.axes._subplots.AxesSubplot at 0x7fe73da9c5d0>"
      ]
     },
     "execution_count": 4,
     "metadata": {},
     "output_type": "execute_result"
    },
    {
     "data": {
      "image/png": "[encoded data removed]",
      "text/plain": [
       "<Figure size 432x288 with 1 Axes>"
      ]
     },
     "metadata": {
      "needs_background": "light"
     },
     "output_type": "display_data"
    }
   ],
   "source": [
    "df.plot(kind = 'scatter',\n",
    "       x= 'Height',\n",
    "       y= 'Weight',\n",
    "       title= 'weight verses Height in adults')"
   ]
  },
  {
   "cell_type": "code",
   "execution_count": 5,
   "metadata": {},
   "outputs": [
    {
     "data": {
      "text/plain": [
       "[<matplotlib.lines.Line2D at 0x7fe73da83e90>]"
      ]
     },
     "execution_count": 5,
     "metadata": {},
     "output_type": "execute_result"
    },
    {
     "data": {
      "image/png": "[encoded data removed]",
      "text/plain": [
       "<Figure size 432x288 with 1 Axes>"
      ]
     },
     "metadata": {
      "needs_background": "light"
     },
     "output_type": "display_data"
    }
   ],
   "source": [
    "def line(x, w=0, b=0):\n",
    "    return x*w+b\n",
    "\n",
    "x = np.linspace(60, 80, 100)\n",
    "yhat = line(x,w=0, b=0)\n",
    "\n",
    "df.plot(kind = 'scatter',\n",
    "       x='Height',\n",
    "       y='Weight',\n",
    "       title='Weight against Height of adults')\n",
    "plt.plot(x, yhat, color='red', linewidth=3)"
   ]
  },
  {
   "cell_type": "code",
   "execution_count": 6,
   "metadata": {},
   "outputs": [
    {
     "data": {
      "text/plain": [
       "array([60.        , 60.2020202 , 60.4040404 , 60.60606061, 60.80808081,\n",
       "       61.01010101, 61.21212121, 61.41414141, 61.61616162, 61.81818182,\n",
       "       62.02020202, 62.22222222, 62.42424242, 62.62626263, 62.82828283,\n",
       "       63.03030303, 63.23232323, 63.43434343, 63.63636364, 63.83838384,\n",
       "       64.04040404, 64.24242424, 64.44444444, 64.64646465, 64.84848485,\n",
       "       65.05050505, 65.25252525, 65.45454545, 65.65656566, 65.85858586,\n",
       "       66.06060606, 66.26262626, 66.46464646, 66.66666667, 66.86868687,\n",
       "       67.07070707, 67.27272727, 67.47474747, 67.67676768, 67.87878788,\n",
       "       68.08080808, 68.28282828, 68.48484848, 68.68686869, 68.88888889,\n",
       "       69.09090909, 69.29292929, 69.49494949, 69.6969697 , 69.8989899 ,\n",
       "       70.1010101 , 70.3030303 , 70.50505051, 70.70707071, 70.90909091,\n",
       "       71.11111111, 71.31313131, 71.51515152, 71.71717172, 71.91919192,\n",
       "       72.12121212, 72.32323232, 72.52525253, 72.72727273, 72.92929293,\n",
       "       73.13131313, 73.33333333, 73.53535354, 73.73737374, 73.93939394,\n",
       "       74.14141414, 74.34343434, 74.54545455, 74.74747475, 74.94949495,\n",
       "       75.15151515, 75.35353535, 75.55555556, 75.75757576, 75.95959596,\n",
       "       76.16161616, 76.36363636, 76.56565657, 76.76767677, 76.96969697,\n",
       "       77.17171717, 77.37373737, 77.57575758, 77.77777778, 77.97979798,\n",
       "       78.18181818, 78.38383838, 78.58585859, 78.78787879, 78.98989899,\n",
       "       79.19191919, 79.39393939, 79.5959596 , 79.7979798 , 80.        ])"
      ]
     },
     "execution_count": 6,
     "metadata": {},
     "output_type": "execute_result"
    }
   ],
   "source": [
    "x"
   ]
  },
  {
   "cell_type": "code",
   "execution_count": 7,
   "metadata": {},
   "outputs": [
    {
     "data": {
      "text/plain": [
       "array([0., 0., 0., 0., 0., 0., 0., 0., 0., 0., 0., 0., 0., 0., 0., 0., 0.,\n",
       "       0., 0., 0., 0., 0., 0., 0., 0., 0., 0., 0., 0., 0., 0., 0., 0., 0.,\n",
       "       0., 0., 0., 0., 0., 0., 0., 0., 0., 0., 0., 0., 0., 0., 0., 0., 0.,\n",
       "       0., 0., 0., 0., 0., 0., 0., 0., 0., 0., 0., 0., 0., 0., 0., 0., 0.,\n",
       "       0., 0., 0., 0., 0., 0., 0., 0., 0., 0., 0., 0., 0., 0., 0., 0., 0.,\n",
       "       0., 0., 0., 0., 0., 0., 0., 0., 0., 0., 0., 0., 0., 0., 0.])"
      ]
     },
     "execution_count": 7,
     "metadata": {},
     "output_type": "execute_result"
    }
   ],
   "source": [
    "yhat"
   ]
  },
  {
   "cell_type": "code",
   "execution_count": 8,
   "metadata": {},
   "outputs": [
    {
     "data": {
      "text/plain": [
       "[<matplotlib.lines.Line2D at 0x7fe73ba262d0>]"
      ]
     },
     "execution_count": 8,
     "metadata": {},
     "output_type": "execute_result"
    },
    {
     "data": {
      "image/png": "[encoded data removed]",
      "text/plain": [
       "<Figure size 432x288 with 1 Axes>"
      ]
     },
     "metadata": {
      "needs_background": "light"
     },
     "output_type": "display_data"
    }
   ],
   "source": [
    "def line(x, w=0, b=0):\n",
    "    return x*w+b\n",
    "\n",
    "x = np.linspace(60, 80, 100)\n",
    "yhat = line(x,w=0, b=0)\n",
    "\n",
    "df.plot(kind = 'scatter',\n",
    "       x='Height',\n",
    "       y='Weight',\n",
    "       title='Weight against Height of adults')\n",
    "plt.plot([74,60.5],[240,80], color='red', linewidth = 3)"
   ]
  },
  {
   "cell_type": "code",
   "execution_count": 9,
   "metadata": {},
   "outputs": [],
   "source": [
    "def mean_squared_error(y_true, y_pred):\n",
    "    s= (y_true - y_pred)**2\n",
    "    return s.mean()"
   ]
  },
  {
   "cell_type": "code",
   "execution_count": 10,
   "metadata": {},
   "outputs": [],
   "source": [
    "x = df[['Height']].values\n",
    "y_true = df[['Weight']].values"
   ]
  },
  {
   "cell_type": "code",
   "execution_count": 11,
   "metadata": {},
   "outputs": [],
   "source": [
    "y_pred = line(x)"
   ]
  },
  {
   "cell_type": "code",
   "execution_count": 12,
   "metadata": {},
   "outputs": [
    {
     "data": {
      "text/plain": [
       "41670.776742560025"
      ]
     },
     "execution_count": 12,
     "metadata": {},
     "output_type": "execute_result"
    }
   ],
   "source": [
    "mean_squared_error(y_true, y_pred)"
   ]
  },
  {
   "cell_type": "code",
   "execution_count": 13,
   "metadata": {
    "scrolled": true
   },
   "outputs": [
    {
     "name": "stderr",
     "output_type": "stream",
     "text": [
      "Using TensorFlow backend.\n",
      "/home/alonso/.local/lib/python3.7/site-packages/tensorflow/python/framework/dtypes.py:516: FutureWarning: Passing (type, 1) or '1type' as a synonym of type is deprecated; in a future version of numpy, it will be understood as (type, (1,)) / '(1,)type'.\n",
      "  _np_qint8 = np.dtype([(\"qint8\", np.int8, 1)])\n",
      "/home/alonso/.local/lib/python3.7/site-packages/tensorflow/python/framework/dtypes.py:517: FutureWarning: Passing (type, 1) or '1type' as a synonym of type is deprecated; in a future version of numpy, it will be understood as (type, (1,)) / '(1,)type'.\n",
      "  _np_quint8 = np.dtype([(\"quint8\", np.uint8, 1)])\n",
      "/home/alonso/.local/lib/python3.7/site-packages/tensorflow/python/framework/dtypes.py:518: FutureWarning: Passing (type, 1) or '1type' as a synonym of type is deprecated; in a future version of numpy, it will be understood as (type, (1,)) / '(1,)type'.\n",
      "  _np_qint16 = np.dtype([(\"qint16\", np.int16, 1)])\n",
      "/home/alonso/.local/lib/python3.7/site-packages/tensorflow/python/framework/dtypes.py:519: FutureWarning: Passing (type, 1) or '1type' as a synonym of type is deprecated; in a future version of numpy, it will be understood as (type, (1,)) / '(1,)type'.\n",
      "  _np_quint16 = np.dtype([(\"quint16\", np.uint16, 1)])\n",
      "/home/alonso/.local/lib/python3.7/site-packages/tensorflow/python/framework/dtypes.py:520: FutureWarning: Passing (type, 1) or '1type' as a synonym of type is deprecated; in a future version of numpy, it will be understood as (type, (1,)) / '(1,)type'.\n",
      "  _np_qint32 = np.dtype([(\"qint32\", np.int32, 1)])\n",
      "/home/alonso/.local/lib/python3.7/site-packages/tensorflow/python/framework/dtypes.py:525: FutureWarning: Passing (type, 1) or '1type' as a synonym of type is deprecated; in a future version of numpy, it will be understood as (type, (1,)) / '(1,)type'.\n",
      "  np_resource = np.dtype([(\"resource\", np.ubyte, 1)])\n",
      "/home/alonso/.local/lib/python3.7/site-packages/tensorboard/compat/tensorflow_stub/dtypes.py:541: FutureWarning: Passing (type, 1) or '1type' as a synonym of type is deprecated; in a future version of numpy, it will be understood as (type, (1,)) / '(1,)type'.\n",
      "  _np_qint8 = np.dtype([(\"qint8\", np.int8, 1)])\n",
      "/home/alonso/.local/lib/python3.7/site-packages/tensorboard/compat/tensorflow_stub/dtypes.py:542: FutureWarning: Passing (type, 1) or '1type' as a synonym of type is deprecated; in a future version of numpy, it will be understood as (type, (1,)) / '(1,)type'.\n",
      "  _np_quint8 = np.dtype([(\"quint8\", np.uint8, 1)])\n",
      "/home/alonso/.local/lib/python3.7/site-packages/tensorboard/compat/tensorflow_stub/dtypes.py:543: FutureWarning: Passing (type, 1) or '1type' as a synonym of type is deprecated; in a future version of numpy, it will be understood as (type, (1,)) / '(1,)type'.\n",
      "  _np_qint16 = np.dtype([(\"qint16\", np.int16, 1)])\n",
      "/home/alonso/.local/lib/python3.7/site-packages/tensorboard/compat/tensorflow_stub/dtypes.py:544: FutureWarning: Passing (type, 1) or '1type' as a synonym of type is deprecated; in a future version of numpy, it will be understood as (type, (1,)) / '(1,)type'.\n",
      "  _np_quint16 = np.dtype([(\"quint16\", np.uint16, 1)])\n",
      "/home/alonso/.local/lib/python3.7/site-packages/tensorboard/compat/tensorflow_stub/dtypes.py:545: FutureWarning: Passing (type, 1) or '1type' as a synonym of type is deprecated; in a future version of numpy, it will be understood as (type, (1,)) / '(1,)type'.\n",
      "  _np_qint32 = np.dtype([(\"qint32\", np.int32, 1)])\n",
      "/home/alonso/.local/lib/python3.7/site-packages/tensorboard/compat/tensorflow_stub/dtypes.py:550: FutureWarning: Passing (type, 1) or '1type' as a synonym of type is deprecated; in a future version of numpy, it will be understood as (type, (1,)) / '(1,)type'.\n",
      "  np_resource = np.dtype([(\"resource\", np.ubyte, 1)])\n"
     ]
    }
   ],
   "source": [
    "from keras.models import Sequential\n",
    "from keras.layers import Dense\n",
    "from keras.optimizers import Adam, SGD"
   ]
  },
  {
   "cell_type": "code",
   "execution_count": 14,
   "metadata": {},
   "outputs": [],
   "source": [
    "model = Sequential()"
   ]
  },
  {
   "cell_type": "code",
   "execution_count": 15,
   "metadata": {},
   "outputs": [],
   "source": [
    "model.add(Dense(1, input_shape = (1,)))"
   ]
  },
  {
   "cell_type": "code",
   "execution_count": 16,
   "metadata": {},
   "outputs": [
    {
     "name": "stdout",
     "output_type": "stream",
     "text": [
      "Model: \"sequential_1\"\n",
      "_________________________________________________________________\n",
      "Layer (type)                 Output Shape              Param #   \n",
      "=================================================================\n",
      "dense_1 (Dense)              (None, 1)                 2         \n",
      "=================================================================\n",
      "Total params: 2\n",
      "Trainable params: 2\n",
      "Non-trainable params: 0\n",
      "_________________________________________________________________\n"
     ]
    }
   ],
   "source": [
    "model.summary()"
   ]
  },
  {
   "cell_type": "code",
   "execution_count": 17,
   "metadata": {},
   "outputs": [],
   "source": [
    "model.compile(Adam(lr=0.8), \"mean_squared_error\")"
   ]
  },
  {
   "cell_type": "code",
   "execution_count": 18,
   "metadata": {
    "scrolled": true
   },
   "outputs": [
    {
     "name": "stdout",
     "output_type": "stream",
     "text": [
      "WARNING:tensorflow:From /home/alonso/.local/lib/python3.7/site-packages/keras/backend/tensorflow_backend.py:422: The name tf.global_variables is deprecated. Please use tf.compat.v1.global_variables instead.\n",
      "\n",
      "Epoch 1/50\n",
      "129/129 [==============================] - 1s 5ms/step - loss: 11343.1473\n",
      "Epoch 2/50\n",
      "129/129 [==============================] - 0s 219us/step - loss: 8790.4365\n",
      "Epoch 3/50\n",
      "129/129 [==============================] - 0s 247us/step - loss: 1887.3736\n",
      "Epoch 4/50\n",
      "129/129 [==============================] - 0s 259us/step - loss: 5868.4880\n",
      "Epoch 5/50\n",
      "129/129 [==============================] - 0s 258us/step - loss: 2179.0515\n",
      "Epoch 6/50\n",
      "129/129 [==============================] - 0s 203us/step - loss: 1887.9857\n",
      "Epoch 7/50\n",
      "129/129 [==============================] - 0s 248us/step - loss: 1466.3150\n",
      "Epoch 8/50\n",
      "129/129 [==============================] - 0s 276us/step - loss: 1556.7725\n",
      "Epoch 9/50\n",
      "129/129 [==============================] - 0s 245us/step - loss: 1496.1989\n",
      "Epoch 10/50\n",
      "129/129 [==============================] - 0s 185us/step - loss: 1459.1267\n",
      "Epoch 11/50\n",
      "129/129 [==============================] - 0s 170us/step - loss: 1464.6121\n",
      "Epoch 12/50\n",
      "129/129 [==============================] - 0s 180us/step - loss: 1534.5193\n",
      "Epoch 13/50\n",
      "129/129 [==============================] - 0s 314us/step - loss: 1467.9485\n",
      "Epoch 14/50\n",
      "129/129 [==============================] - 0s 245us/step - loss: 2048.9988\n",
      "Epoch 15/50\n",
      "129/129 [==============================] - 0s 266us/step - loss: 1535.2501\n",
      "Epoch 16/50\n",
      "129/129 [==============================] - 0s 193us/step - loss: 1489.2820\n",
      "Epoch 17/50\n",
      "129/129 [==============================] - 0s 224us/step - loss: 1465.6960\n",
      "Epoch 18/50\n",
      "129/129 [==============================] - 0s 239us/step - loss: 1472.4197\n",
      "Epoch 19/50\n",
      "129/129 [==============================] - 0s 182us/step - loss: 1499.1393\n",
      "Epoch 20/50\n",
      "129/129 [==============================] - 0s 218us/step - loss: 1602.0003\n",
      "Epoch 21/50\n",
      "129/129 [==============================] - 0s 217us/step - loss: 1437.7273\n",
      "Epoch 22/50\n",
      "129/129 [==============================] - 0s 214us/step - loss: 1452.8886\n",
      "Epoch 23/50\n",
      "129/129 [==============================] - 0s 174us/step - loss: 1599.7074\n",
      "Epoch 24/50\n",
      "129/129 [==============================] - 0s 163us/step - loss: 1581.4894\n",
      "Epoch 25/50\n",
      "129/129 [==============================] - 0s 153us/step - loss: 1854.2324\n",
      "Epoch 26/50\n",
      "129/129 [==============================] - 0s 196us/step - loss: 1995.7223\n",
      "Epoch 27/50\n",
      "129/129 [==============================] - 0s 195us/step - loss: 1877.4572\n",
      "Epoch 28/50\n",
      "129/129 [==============================] - 0s 182us/step - loss: 1587.9923\n",
      "Epoch 29/50\n",
      "129/129 [==============================] - 0s 209us/step - loss: 1466.6595\n",
      "Epoch 30/50\n",
      "129/129 [==============================] - 0s 162us/step - loss: 1592.5054\n",
      "Epoch 31/50\n",
      "129/129 [==============================] - 0s 166us/step - loss: 1556.8658\n",
      "Epoch 32/50\n",
      "129/129 [==============================] - 0s 242us/step - loss: 1480.1514\n",
      "Epoch 33/50\n",
      "129/129 [==============================] - 0s 213us/step - loss: 1543.1351\n",
      "Epoch 34/50\n",
      "129/129 [==============================] - 0s 197us/step - loss: 1692.4537\n",
      "Epoch 35/50\n",
      "129/129 [==============================] - 0s 176us/step - loss: 1563.3738\n",
      "Epoch 36/50\n",
      "129/129 [==============================] - 0s 204us/step - loss: 1860.4323\n",
      "Epoch 37/50\n",
      "129/129 [==============================] - 0s 173us/step - loss: 1481.0402\n",
      "Epoch 38/50\n",
      "129/129 [==============================] - 0s 191us/step - loss: 1527.7445\n",
      "Epoch 39/50\n",
      "129/129 [==============================] - 0s 166us/step - loss: 1680.3200\n",
      "Epoch 40/50\n",
      "129/129 [==============================] - 0s 178us/step - loss: 1503.7878\n",
      "Epoch 41/50\n",
      "129/129 [==============================] - 0s 189us/step - loss: 1459.9849\n",
      "Epoch 42/50\n",
      "129/129 [==============================] - 0s 222us/step - loss: 1445.5887\n",
      "Epoch 43/50\n",
      "129/129 [==============================] - 0s 166us/step - loss: 1434.5629\n",
      "Epoch 44/50\n",
      "129/129 [==============================] - 0s 171us/step - loss: 1728.6979\n",
      "Epoch 45/50\n",
      "129/129 [==============================] - 0s 194us/step - loss: 1449.0891\n",
      "Epoch 46/50\n",
      "129/129 [==============================] - 0s 205us/step - loss: 1504.1984\n",
      "Epoch 47/50\n",
      "129/129 [==============================] - 0s 351us/step - loss: 1515.8632\n",
      "Epoch 48/50\n",
      "129/129 [==============================] - 0s 176us/step - loss: 1634.8857\n",
      "Epoch 49/50\n",
      "129/129 [==============================] - 0s 193us/step - loss: 1791.6670\n",
      "Epoch 50/50\n",
      "129/129 [==============================] - 0s 252us/step - loss: 1792.7972\n"
     ]
    },
    {
     "data": {
      "text/plain": [
       "<keras.callbacks.callbacks.History at 0x7fe723470810>"
      ]
     },
     "execution_count": 18,
     "metadata": {},
     "output_type": "execute_result"
    }
   ],
   "source": [
    "model.fit(x, y_true, epochs = 50)"
   ]
  },
  {
   "cell_type": "code",
   "execution_count": 19,
   "metadata": {},
   "outputs": [],
   "source": [
    "y_pred = model.predict(x)"
   ]
  },
  {
   "cell_type": "code",
   "execution_count": 20,
   "metadata": {},
   "outputs": [
    {
     "data": {
      "text/plain": [
       "[<matplotlib.lines.Line2D at 0x7fe7201f65d0>]"
      ]
     },
     "execution_count": 20,
     "metadata": {},
     "output_type": "execute_result"
    },
    {
     "data": {
      "image/png": "[encoded data removed]",
      "text/plain": [
       "<Figure size 432x288 with 1 Axes>"
      ]
     },
     "metadata": {
      "needs_background": "light"
     },
     "output_type": "display_data"
    }
   ],
   "source": [
    "df.plot(kind = 'scatter',\n",
    "       x = 'Height',\n",
    "       y = 'Weight',\n",
    "       title = 'Height versus Weight in Adults')\n",
    "plt.plot(x, y_pred, color = 'red')"
   ]
  },
  {
   "cell_type": "code",
   "execution_count": 21,
   "metadata": {},
   "outputs": [],
   "source": [
    "W, B = model.get_weights()"
   ]
  },
  {
   "cell_type": "code",
   "execution_count": 22,
   "metadata": {},
   "outputs": [
    {
     "data": {
      "text/plain": [
       "array([[2.180951]], dtype=float32)"
      ]
     },
     "execution_count": 22,
     "metadata": {},
     "output_type": "execute_result"
    }
   ],
   "source": [
    "W"
   ]
  },
  {
   "cell_type": "code",
   "execution_count": 23,
   "metadata": {},
   "outputs": [
    {
     "data": {
      "text/plain": [
       "array([11.63782], dtype=float32)"
      ]
     },
     "execution_count": 23,
     "metadata": {},
     "output_type": "execute_result"
    }
   ],
   "source": [
    "B"
   ]
  },
  {
   "cell_type": "code",
   "execution_count": 24,
   "metadata": {},
   "outputs": [],
   "source": [
    "from sklearn.model_selection import train_test_split"
   ]
  },
  {
   "cell_type": "code",
   "execution_count": 27,
   "metadata": {},
   "outputs": [],
   "source": [
    "x_train, x_test, y_train, y_test = train_test_split(x, y_true, test_size = 0.4)"
   ]
  },
  {
   "cell_type": "code",
   "execution_count": 28,
   "metadata": {},
   "outputs": [
    {
     "data": {
      "text/plain": [
       "77"
      ]
     },
     "execution_count": 28,
     "metadata": {},
     "output_type": "execute_result"
    }
   ],
   "source": [
    "len(x_train)"
   ]
  },
  {
   "cell_type": "code",
   "execution_count": 29,
   "metadata": {},
   "outputs": [
    {
     "data": {
      "text/plain": [
       "52"
      ]
     },
     "execution_count": 29,
     "metadata": {},
     "output_type": "execute_result"
    }
   ],
   "source": [
    "len(x_test)"
   ]
  },
  {
   "cell_type": "code",
   "execution_count": 30,
   "metadata": {},
   "outputs": [],
   "source": [
    "W[0, 0] = 0.0\n",
    "B[0] = 0.0\n",
    "model.set_weights((W, B))"
   ]
  },
  {
   "cell_type": "code",
   "execution_count": 31,
   "metadata": {},
   "outputs": [
    {
     "data": {
      "text/plain": [
       "<keras.callbacks.callbacks.History at 0x7fe70047c990>"
      ]
     },
     "execution_count": 31,
     "metadata": {},
     "output_type": "execute_result"
    }
   ],
   "source": [
    "model.fit(x_train, y_train, epochs = 50, verbose = 0)"
   ]
  },
  {
   "cell_type": "code",
   "execution_count": 32,
   "metadata": {},
   "outputs": [],
   "source": [
    "y_train_pred = model.predict(x_train).ravel()\n",
    "y_test_pred = model.predict(x_test).ravel()"
   ]
  },
  {
   "cell_type": "code",
   "execution_count": 33,
   "metadata": {},
   "outputs": [],
   "source": [
    "from sklearn.metrics import mean_squared_error as mse"
   ]
  },
  {
   "cell_type": "code",
   "execution_count": 34,
   "metadata": {},
   "outputs": [
    {
     "name": "stdout",
     "output_type": "stream",
     "text": [
      "The mean squared error on the train set is:\t1513.5\n",
      "The mean squared error on the test set is:\t1468.7\n"
     ]
    }
   ],
   "source": [
    "print(\"The mean squared error on the train set is:\\t{:0.1f}\".format(mse(y_train, y_train_pred)))\n",
    "print(\"The mean squared error on the test set is:\\t{:0.1f}\".format(mse(y_test, y_test_pred)))"
   ]
  },
  {
   "cell_type": "code",
   "execution_count": 35,
   "metadata": {},
   "outputs": [
    {
     "ename": "NameError",
     "evalue": "name 'r2_score' is not defined",
     "output_type": "error",
     "traceback": [
      "\u001b[0;31m---------------------------------------------------------------------------\u001b[0m",
      "\u001b[0;31mNameError\u001b[0m                                 Traceback (most recent call last)",
      "\u001b[0;32m<ipython-input-35-5a40e6b187d6>\u001b[0m in \u001b[0;36m<module>\u001b[0;34m\u001b[0m\n\u001b[0;32m----> 1\u001b[0;31m \u001b[0mprint\u001b[0m\u001b[0;34m(\u001b[0m\u001b[0;34m\"The R2 score on the train set is:\\t{:0.3f}\"\u001b[0m\u001b[0;34m.\u001b[0m\u001b[0mformat\u001b[0m\u001b[0;34m(\u001b[0m\u001b[0mr2_score\u001b[0m\u001b[0;34m(\u001b[0m\u001b[0my_train\u001b[0m\u001b[0;34m,\u001b[0m \u001b[0my_train_pred\u001b[0m\u001b[0;34m)\u001b[0m\u001b[0;34m)\u001b[0m\u001b[0;34m)\u001b[0m\u001b[0;34m\u001b[0m\u001b[0;34m\u001b[0m\u001b[0m\n\u001b[0m\u001b[1;32m      2\u001b[0m \u001b[0mprint\u001b[0m\u001b[0;34m(\u001b[0m\u001b[0;34m\"The R2 score on the test set is:\\t{:0.3f}\"\u001b[0m\u001b[0;34m.\u001b[0m\u001b[0mformat\u001b[0m\u001b[0;34m(\u001b[0m\u001b[0mr2_score\u001b[0m\u001b[0;34m(\u001b[0m\u001b[0my_test\u001b[0m\u001b[0;34m,\u001b[0m \u001b[0my_test_pred\u001b[0m\u001b[0;34m)\u001b[0m\u001b[0;34m)\u001b[0m\u001b[0;34m)\u001b[0m\u001b[0;34m\u001b[0m\u001b[0;34m\u001b[0m\u001b[0m\n",
      "\u001b[0;31mNameError\u001b[0m: name 'r2_score' is not defined"
     ]
    }
   ],
   "source": [
    "print(\"The R2 score on the train set is:\\t{:0.3f}\".format(r2_score(y_train, y_train_pred)))\n",
    "print(\"The R2 score on the test set is:\\t{:0.3f}\".format(r2_score(y_test, y_test_pred)))"
   ]
  },
  {
   "cell_type": "code",
   "execution_count": null,
   "metadata": {},
   "outputs": [],
   "source": []
  }
 ],
 "metadata": {
  "kernelspec": {
   "display_name": "Python 3",
   "language": "python",
   "name": "python3"
  },
  "language_info": {
   "codemirror_mode": {
    "name": "ipython",
    "version": 3
   },
   "file_extension": ".py",
   "mimetype": "text/x-python",
   "name": "python",
   "nbconvert_exporter": "python",
   "pygments_lexer": "ipython3",
   "version": "3.7.4"
  }
 },
 "nbformat": 4,
 "nbformat_minor": 4
}
